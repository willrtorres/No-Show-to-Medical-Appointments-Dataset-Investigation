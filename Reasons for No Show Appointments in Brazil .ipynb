{
 "cells": [
  {
   "cell_type": "markdown",
   "metadata": {},
   "source": [
    "# Project: Investigate a Dataset\n",
    "## Dataset: No Show Appointments in Brazil\n",
    "\n",
    "### Table of Contents\n",
    "<ul>\n",
    "<li><a href=\"#intro\">Introduction</a></li>\n",
    "<li><a href=\"#wrangling\">Data Wrangling</a></li>\n",
    "<li><a href=\"#eda\">Exploratory Data Analysis</a></li>\n",
    "> <li><a href=\"#characteristics\">Patient Characteristics</a></li>\n",
    "> <li><a href=\"#gender\">Gender</a></li>\n",
    "> <li><a href=\"#age/gender\">Age/Gender</a></li>\n",
    "> <li><a href=\"#hospital_loc\">Hospital Location</a></li>     \n",
    "<li><a href=\"#conclusions\">Conclusions</a></li>\n",
    "<ul>"
   ]
  },
  {
   "cell_type": "markdown",
   "metadata": {},
   "source": [
    "<a id='intro'></a>\n",
    "## Introduction\n",
    "\n",
    "> The dataset that I've selected for analysis is the 'No Show Appointments in Brazil.' After looking at the dataset, I am wondering what factors will affect a person for not showing up to their appointment? Age/Gender, location of hosptial, enrolled in Bosla Familia(welfare program), characteristics of patients(diabetic, hypertention, etc.), and if they received a text message reminder. "
   ]
  },
  {
   "cell_type": "code",
   "execution_count": 6,
   "metadata": {},
   "outputs": [],
   "source": [
    "import pandas as pd\n",
    "import numpy as np\n",
    "import matplotlib.pyplot as plt \n",
    "import seaborn as sns \n",
    "% matplotlib inline \n"
   ]
  },
  {
   "cell_type": "markdown",
   "metadata": {},
   "source": [
    "<a id='wrangling'></a>\n",
    "## Data Wrangling\n",
    "\n",
    "> First I will be looking at the data to evaulate what steps I should take next. \n",
    "\n",
    "### General Properties"
   ]
  },
  {
   "cell_type": "code",
   "execution_count": 7,
   "metadata": {},
   "outputs": [
    {
     "data": {
      "text/html": [
       "<div>\n",
       "<style scoped>\n",
       "    .dataframe tbody tr th:only-of-type {\n",
       "        vertical-align: middle;\n",
       "    }\n",
       "\n",
       "    .dataframe tbody tr th {\n",
       "        vertical-align: top;\n",
       "    }\n",
       "\n",
       "    .dataframe thead th {\n",
       "        text-align: right;\n",
       "    }\n",
       "</style>\n",
       "<table border=\"1\" class=\"dataframe\">\n",
       "  <thead>\n",
       "    <tr style=\"text-align: right;\">\n",
       "      <th></th>\n",
       "      <th>PatientId</th>\n",
       "      <th>AppointmentID</th>\n",
       "      <th>Gender</th>\n",
       "      <th>ScheduledDay</th>\n",
       "      <th>AppointmentDay</th>\n",
       "      <th>Age</th>\n",
       "      <th>Neighbourhood</th>\n",
       "      <th>Scholarship</th>\n",
       "      <th>Hipertension</th>\n",
       "      <th>Diabetes</th>\n",
       "      <th>Alcoholism</th>\n",
       "      <th>Handcap</th>\n",
       "      <th>SMS_received</th>\n",
       "      <th>No-show</th>\n",
       "    </tr>\n",
       "  </thead>\n",
       "  <tbody>\n",
       "    <tr>\n",
       "      <th>0</th>\n",
       "      <td>2.987250e+13</td>\n",
       "      <td>5642903</td>\n",
       "      <td>F</td>\n",
       "      <td>2016-04-29T18:38:08Z</td>\n",
       "      <td>2016-04-29T00:00:00Z</td>\n",
       "      <td>62</td>\n",
       "      <td>JARDIM DA PENHA</td>\n",
       "      <td>0</td>\n",
       "      <td>1</td>\n",
       "      <td>0</td>\n",
       "      <td>0</td>\n",
       "      <td>0</td>\n",
       "      <td>0</td>\n",
       "      <td>No</td>\n",
       "    </tr>\n",
       "    <tr>\n",
       "      <th>1</th>\n",
       "      <td>5.589978e+14</td>\n",
       "      <td>5642503</td>\n",
       "      <td>M</td>\n",
       "      <td>2016-04-29T16:08:27Z</td>\n",
       "      <td>2016-04-29T00:00:00Z</td>\n",
       "      <td>56</td>\n",
       "      <td>JARDIM DA PENHA</td>\n",
       "      <td>0</td>\n",
       "      <td>0</td>\n",
       "      <td>0</td>\n",
       "      <td>0</td>\n",
       "      <td>0</td>\n",
       "      <td>0</td>\n",
       "      <td>No</td>\n",
       "    </tr>\n",
       "    <tr>\n",
       "      <th>2</th>\n",
       "      <td>4.262962e+12</td>\n",
       "      <td>5642549</td>\n",
       "      <td>F</td>\n",
       "      <td>2016-04-29T16:19:04Z</td>\n",
       "      <td>2016-04-29T00:00:00Z</td>\n",
       "      <td>62</td>\n",
       "      <td>MATA DA PRAIA</td>\n",
       "      <td>0</td>\n",
       "      <td>0</td>\n",
       "      <td>0</td>\n",
       "      <td>0</td>\n",
       "      <td>0</td>\n",
       "      <td>0</td>\n",
       "      <td>No</td>\n",
       "    </tr>\n",
       "    <tr>\n",
       "      <th>3</th>\n",
       "      <td>8.679512e+11</td>\n",
       "      <td>5642828</td>\n",
       "      <td>F</td>\n",
       "      <td>2016-04-29T17:29:31Z</td>\n",
       "      <td>2016-04-29T00:00:00Z</td>\n",
       "      <td>8</td>\n",
       "      <td>PONTAL DE CAMBURI</td>\n",
       "      <td>0</td>\n",
       "      <td>0</td>\n",
       "      <td>0</td>\n",
       "      <td>0</td>\n",
       "      <td>0</td>\n",
       "      <td>0</td>\n",
       "      <td>No</td>\n",
       "    </tr>\n",
       "    <tr>\n",
       "      <th>4</th>\n",
       "      <td>8.841186e+12</td>\n",
       "      <td>5642494</td>\n",
       "      <td>F</td>\n",
       "      <td>2016-04-29T16:07:23Z</td>\n",
       "      <td>2016-04-29T00:00:00Z</td>\n",
       "      <td>56</td>\n",
       "      <td>JARDIM DA PENHA</td>\n",
       "      <td>0</td>\n",
       "      <td>1</td>\n",
       "      <td>1</td>\n",
       "      <td>0</td>\n",
       "      <td>0</td>\n",
       "      <td>0</td>\n",
       "      <td>No</td>\n",
       "    </tr>\n",
       "  </tbody>\n",
       "</table>\n",
       "</div>"
      ],
      "text/plain": [
       "      PatientId  AppointmentID Gender          ScheduledDay  \\\n",
       "0  2.987250e+13        5642903      F  2016-04-29T18:38:08Z   \n",
       "1  5.589978e+14        5642503      M  2016-04-29T16:08:27Z   \n",
       "2  4.262962e+12        5642549      F  2016-04-29T16:19:04Z   \n",
       "3  8.679512e+11        5642828      F  2016-04-29T17:29:31Z   \n",
       "4  8.841186e+12        5642494      F  2016-04-29T16:07:23Z   \n",
       "\n",
       "         AppointmentDay  Age      Neighbourhood  Scholarship  Hipertension  \\\n",
       "0  2016-04-29T00:00:00Z   62    JARDIM DA PENHA            0             1   \n",
       "1  2016-04-29T00:00:00Z   56    JARDIM DA PENHA            0             0   \n",
       "2  2016-04-29T00:00:00Z   62      MATA DA PRAIA            0             0   \n",
       "3  2016-04-29T00:00:00Z    8  PONTAL DE CAMBURI            0             0   \n",
       "4  2016-04-29T00:00:00Z   56    JARDIM DA PENHA            0             1   \n",
       "\n",
       "   Diabetes  Alcoholism  Handcap  SMS_received No-show  \n",
       "0         0           0        0             0      No  \n",
       "1         0           0        0             0      No  \n",
       "2         0           0        0             0      No  \n",
       "3         0           0        0             0      No  \n",
       "4         1           0        0             0      No  "
      ]
     },
     "execution_count": 7,
     "metadata": {},
     "output_type": "execute_result"
    }
   ],
   "source": [
    "df = pd.read_csv(\"/Users/wilbertrivera/desktop/noshow.csv\")\n",
    "df.head()\n"
   ]
  },
  {
   "cell_type": "code",
   "execution_count": 8,
   "metadata": {},
   "outputs": [
    {
     "data": {
      "text/plain": [
       "(110527, 14)"
      ]
     },
     "execution_count": 8,
     "metadata": {},
     "output_type": "execute_result"
    }
   ],
   "source": [
    "df.shape"
   ]
  },
  {
   "cell_type": "code",
   "execution_count": 9,
   "metadata": {},
   "outputs": [
    {
     "data": {
      "text/html": [
       "<div>\n",
       "<style scoped>\n",
       "    .dataframe tbody tr th:only-of-type {\n",
       "        vertical-align: middle;\n",
       "    }\n",
       "\n",
       "    .dataframe tbody tr th {\n",
       "        vertical-align: top;\n",
       "    }\n",
       "\n",
       "    .dataframe thead th {\n",
       "        text-align: right;\n",
       "    }\n",
       "</style>\n",
       "<table border=\"1\" class=\"dataframe\">\n",
       "  <thead>\n",
       "    <tr style=\"text-align: right;\">\n",
       "      <th></th>\n",
       "      <th>PatientId</th>\n",
       "      <th>AppointmentID</th>\n",
       "      <th>Age</th>\n",
       "      <th>Scholarship</th>\n",
       "      <th>Hipertension</th>\n",
       "      <th>Diabetes</th>\n",
       "      <th>Alcoholism</th>\n",
       "      <th>Handcap</th>\n",
       "      <th>SMS_received</th>\n",
       "    </tr>\n",
       "  </thead>\n",
       "  <tbody>\n",
       "    <tr>\n",
       "      <th>count</th>\n",
       "      <td>1.105270e+05</td>\n",
       "      <td>1.105270e+05</td>\n",
       "      <td>110527.000000</td>\n",
       "      <td>110527.000000</td>\n",
       "      <td>110527.000000</td>\n",
       "      <td>110527.000000</td>\n",
       "      <td>110527.000000</td>\n",
       "      <td>110527.000000</td>\n",
       "      <td>110527.000000</td>\n",
       "    </tr>\n",
       "    <tr>\n",
       "      <th>mean</th>\n",
       "      <td>1.474963e+14</td>\n",
       "      <td>5.675305e+06</td>\n",
       "      <td>37.088874</td>\n",
       "      <td>0.098266</td>\n",
       "      <td>0.197246</td>\n",
       "      <td>0.071865</td>\n",
       "      <td>0.030400</td>\n",
       "      <td>0.022248</td>\n",
       "      <td>0.321026</td>\n",
       "    </tr>\n",
       "    <tr>\n",
       "      <th>std</th>\n",
       "      <td>2.560949e+14</td>\n",
       "      <td>7.129575e+04</td>\n",
       "      <td>23.110205</td>\n",
       "      <td>0.297675</td>\n",
       "      <td>0.397921</td>\n",
       "      <td>0.258265</td>\n",
       "      <td>0.171686</td>\n",
       "      <td>0.161543</td>\n",
       "      <td>0.466873</td>\n",
       "    </tr>\n",
       "    <tr>\n",
       "      <th>min</th>\n",
       "      <td>3.921784e+04</td>\n",
       "      <td>5.030230e+06</td>\n",
       "      <td>-1.000000</td>\n",
       "      <td>0.000000</td>\n",
       "      <td>0.000000</td>\n",
       "      <td>0.000000</td>\n",
       "      <td>0.000000</td>\n",
       "      <td>0.000000</td>\n",
       "      <td>0.000000</td>\n",
       "    </tr>\n",
       "    <tr>\n",
       "      <th>25%</th>\n",
       "      <td>4.172614e+12</td>\n",
       "      <td>5.640286e+06</td>\n",
       "      <td>18.000000</td>\n",
       "      <td>0.000000</td>\n",
       "      <td>0.000000</td>\n",
       "      <td>0.000000</td>\n",
       "      <td>0.000000</td>\n",
       "      <td>0.000000</td>\n",
       "      <td>0.000000</td>\n",
       "    </tr>\n",
       "    <tr>\n",
       "      <th>50%</th>\n",
       "      <td>3.173184e+13</td>\n",
       "      <td>5.680573e+06</td>\n",
       "      <td>37.000000</td>\n",
       "      <td>0.000000</td>\n",
       "      <td>0.000000</td>\n",
       "      <td>0.000000</td>\n",
       "      <td>0.000000</td>\n",
       "      <td>0.000000</td>\n",
       "      <td>0.000000</td>\n",
       "    </tr>\n",
       "    <tr>\n",
       "      <th>75%</th>\n",
       "      <td>9.439172e+13</td>\n",
       "      <td>5.725524e+06</td>\n",
       "      <td>55.000000</td>\n",
       "      <td>0.000000</td>\n",
       "      <td>0.000000</td>\n",
       "      <td>0.000000</td>\n",
       "      <td>0.000000</td>\n",
       "      <td>0.000000</td>\n",
       "      <td>1.000000</td>\n",
       "    </tr>\n",
       "    <tr>\n",
       "      <th>max</th>\n",
       "      <td>9.999816e+14</td>\n",
       "      <td>5.790484e+06</td>\n",
       "      <td>115.000000</td>\n",
       "      <td>1.000000</td>\n",
       "      <td>1.000000</td>\n",
       "      <td>1.000000</td>\n",
       "      <td>1.000000</td>\n",
       "      <td>4.000000</td>\n",
       "      <td>1.000000</td>\n",
       "    </tr>\n",
       "  </tbody>\n",
       "</table>\n",
       "</div>"
      ],
      "text/plain": [
       "          PatientId  AppointmentID            Age    Scholarship  \\\n",
       "count  1.105270e+05   1.105270e+05  110527.000000  110527.000000   \n",
       "mean   1.474963e+14   5.675305e+06      37.088874       0.098266   \n",
       "std    2.560949e+14   7.129575e+04      23.110205       0.297675   \n",
       "min    3.921784e+04   5.030230e+06      -1.000000       0.000000   \n",
       "25%    4.172614e+12   5.640286e+06      18.000000       0.000000   \n",
       "50%    3.173184e+13   5.680573e+06      37.000000       0.000000   \n",
       "75%    9.439172e+13   5.725524e+06      55.000000       0.000000   \n",
       "max    9.999816e+14   5.790484e+06     115.000000       1.000000   \n",
       "\n",
       "        Hipertension       Diabetes     Alcoholism        Handcap  \\\n",
       "count  110527.000000  110527.000000  110527.000000  110527.000000   \n",
       "mean        0.197246       0.071865       0.030400       0.022248   \n",
       "std         0.397921       0.258265       0.171686       0.161543   \n",
       "min         0.000000       0.000000       0.000000       0.000000   \n",
       "25%         0.000000       0.000000       0.000000       0.000000   \n",
       "50%         0.000000       0.000000       0.000000       0.000000   \n",
       "75%         0.000000       0.000000       0.000000       0.000000   \n",
       "max         1.000000       1.000000       1.000000       4.000000   \n",
       "\n",
       "        SMS_received  \n",
       "count  110527.000000  \n",
       "mean        0.321026  \n",
       "std         0.466873  \n",
       "min         0.000000  \n",
       "25%         0.000000  \n",
       "50%         0.000000  \n",
       "75%         1.000000  \n",
       "max         1.000000  "
      ]
     },
     "execution_count": 9,
     "metadata": {},
     "output_type": "execute_result"
    }
   ],
   "source": [
    "df.describe()"
   ]
  },
  {
   "cell_type": "code",
   "execution_count": 10,
   "metadata": {},
   "outputs": [
    {
     "data": {
      "image/png": "[encoded data removed]",
      "text/plain": [
       "<Figure size 720x576 with 9 Axes>"
      ]
     },
     "metadata": {},
     "output_type": "display_data"
    }
   ],
   "source": [
    "df.hist(figsize=(10,8));"
   ]
  },
  {
   "cell_type": "markdown",
   "metadata": {},
   "source": [
    "### Data Cleaning (Notes)\n",
    "\n",
    ">After looking at the histogram of the dataset, I can see that age is evenly distributed. Roughly about 40% of the people who scheduled an appointment recieved a text message. The patient's with diabetes, hyptertension, handicap, and alcoholism make a small percentage of the population. Patients on scholarship(enrolled Bosla Familia) in  make of about 10% of the population. \n",
    "\n",
    "> I will need to rename some columns because of misspellings and drop columns that I find provide meaninful impact on my investigation. Find out if there are nulls and replacing them with the mean of the column. Find out if there are duplicates and dropping them. As I explore that dataset, I might find more errors and will fix as them as I go along. "
   ]
  },
  {
   "cell_type": "code",
   "execution_count": 11,
   "metadata": {},
   "outputs": [],
   "source": [
    "df.drop(['AppointmentID'], axis=1, inplace=True)\n"
   ]
  },
  {
   "cell_type": "markdown",
   "metadata": {},
   "source": [
    "## Notes \n",
    ">I don't see the value of AppointmentID.. I decided to drop these columns."
   ]
  },
  {
   "cell_type": "code",
   "execution_count": 12,
   "metadata": {},
   "outputs": [
    {
     "name": "stdout",
     "output_type": "stream",
     "text": [
      "<class 'pandas.core.frame.DataFrame'>\n",
      "RangeIndex: 110527 entries, 0 to 110526\n",
      "Data columns (total 13 columns):\n",
      "PatientId         110527 non-null float64\n",
      "Gender            110527 non-null object\n",
      "ScheduledDay      110527 non-null object\n",
      "AppointmentDay    110527 non-null object\n",
      "Age               110527 non-null int64\n",
      "Neighbourhood     110527 non-null object\n",
      "Scholarship       110527 non-null int64\n",
      "Hipertension      110527 non-null int64\n",
      "Diabetes          110527 non-null int64\n",
      "Alcoholism        110527 non-null int64\n",
      "Handcap           110527 non-null int64\n",
      "SMS_received      110527 non-null int64\n",
      "No-show           110527 non-null object\n",
      "dtypes: float64(1), int64(7), object(5)\n",
      "memory usage: 11.0+ MB\n"
     ]
    }
   ],
   "source": [
    "df.info()"
   ]
  },
  {
   "cell_type": "markdown",
   "metadata": {},
   "source": [
    "## Notes \n",
    ">Looking over the data I can see that PatientId is a float, but most of the variables in that column are integers. I'm going to see if this might be an error and if so correct it. \n"
   ]
  },
  {
   "cell_type": "code",
   "execution_count": 13,
   "metadata": {},
   "outputs": [],
   "source": [
    "pd.set_option('display.max_colwidth', 2)"
   ]
  },
  {
   "cell_type": "code",
   "execution_count": 14,
   "metadata": {},
   "outputs": [],
   "source": [
    "df['PatientId'] = df['PatientId'].astype(int)"
   ]
  },
  {
   "cell_type": "code",
   "execution_count": 15,
   "metadata": {},
   "outputs": [
    {
     "data": {
      "text/plain": [
       "0    29872499824296 \n",
       "1    558997776694438\n",
       "2    4262962299951  \n",
       "3    867951213174   \n",
       "4    8841186448183  \n",
       "Name: PatientId, dtype: int64"
      ]
     },
     "execution_count": 15,
     "metadata": {},
     "output_type": "execute_result"
    }
   ],
   "source": [
    "df['PatientId'].head()"
   ]
  },
  {
   "cell_type": "markdown",
   "metadata": {},
   "source": [
    "## Notes\n",
    "> Converted all floats to integers for consistency. There was a mixture of floats and integers, but there was nothing after the decimal point. \n"
   ]
  },
  {
   "cell_type": "code",
   "execution_count": 16,
   "metadata": {},
   "outputs": [
    {
     "data": {
      "text/plain": [
       "PatientId         0\n",
       "Gender            0\n",
       "ScheduledDay      0\n",
       "AppointmentDay    0\n",
       "Age               0\n",
       "Neighbourhood     0\n",
       "Scholarship       0\n",
       "Hipertension      0\n",
       "Diabetes          0\n",
       "Alcoholism        0\n",
       "Handcap           0\n",
       "SMS_received      0\n",
       "No-show           0\n",
       "dtype: int64"
      ]
     },
     "execution_count": 16,
     "metadata": {},
     "output_type": "execute_result"
    }
   ],
   "source": [
    "df.isnull().sum()"
   ]
  },
  {
   "cell_type": "code",
   "execution_count": 17,
   "metadata": {},
   "outputs": [
    {
     "data": {
      "text/plain": [
       "<bound method DataFrame.duplicated of               PatientId Gender          ScheduledDay        AppointmentDay  \\\n",
       "0       29872499824296   F      2016-04-29T18:38:08Z  2016-04-29T00:00:00Z   \n",
       "1       558997776694438  M      2016-04-29T16:08:27Z  2016-04-29T00:00:00Z   \n",
       "2       4262962299951    F      2016-04-29T16:19:04Z  2016-04-29T00:00:00Z   \n",
       "3       867951213174     F      2016-04-29T17:29:31Z  2016-04-29T00:00:00Z   \n",
       "4       8841186448183    F      2016-04-29T16:07:23Z  2016-04-29T00:00:00Z   \n",
       "5       95985133231274   F      2016-04-27T08:36:51Z  2016-04-29T00:00:00Z   \n",
       "6       733688164476661  F      2016-04-27T15:05:12Z  2016-04-29T00:00:00Z   \n",
       "7       3449833394123    F      2016-04-27T15:39:58Z  2016-04-29T00:00:00Z   \n",
       "8       56394729949972   F      2016-04-29T08:02:16Z  2016-04-29T00:00:00Z   \n",
       "9       78124564369297   F      2016-04-27T12:48:25Z  2016-04-29T00:00:00Z   \n",
       "10      734536231958495  F      2016-04-27T14:58:11Z  2016-04-29T00:00:00Z   \n",
       "11      7542951368435    M      2016-04-26T08:44:12Z  2016-04-29T00:00:00Z   \n",
       "12      566654781423437  F      2016-04-28T11:33:51Z  2016-04-29T00:00:00Z   \n",
       "13      911394617215919  M      2016-04-28T14:52:07Z  2016-04-29T00:00:00Z   \n",
       "14      99884723334928   F      2016-04-28T10:06:24Z  2016-04-29T00:00:00Z   \n",
       "15      99948393975      F      2016-04-26T08:47:27Z  2016-04-29T00:00:00Z   \n",
       "16      84574392942817   M      2016-04-28T08:51:47Z  2016-04-29T00:00:00Z   \n",
       "17      14794966191172   F      2016-04-28T09:28:57Z  2016-04-29T00:00:00Z   \n",
       "18      17135378245248   F      2016-04-26T10:54:18Z  2016-04-29T00:00:00Z   \n",
       "19      7223289184215    F      2016-04-29T10:43:14Z  2016-04-29T00:00:00Z   \n",
       "20      622257462899397  F      2016-04-27T07:51:14Z  2016-04-29T00:00:00Z   \n",
       "21      12154843752835   F      2016-04-27T10:50:45Z  2016-04-29T00:00:00Z   \n",
       "22      863229818887631  M      2016-04-25T13:29:16Z  2016-04-29T00:00:00Z   \n",
       "23      213753979425692  F      2016-04-28T10:27:05Z  2016-04-29T00:00:00Z   \n",
       "24      8734857996885    F      2016-04-29T14:19:19Z  2016-04-29T00:00:00Z   \n",
       "25      5819369978796    M      2016-04-26T15:04:17Z  2016-04-29T00:00:00Z   \n",
       "26      25787851512      F      2016-04-29T14:19:42Z  2016-04-29T00:00:00Z   \n",
       "27      12154843752835   F      2016-04-27T10:51:45Z  2016-04-29T00:00:00Z   \n",
       "28      5926171692527    M      2016-04-29T15:48:02Z  2016-04-29T00:00:00Z   \n",
       "29      1225776163665    F      2016-04-29T15:16:29Z  2016-04-29T00:00:00Z   \n",
       "...               ...   ..                       ...                   ...   \n",
       "110497  793589177751417  M      2016-06-01T09:46:33Z  2016-06-01T00:00:00Z   \n",
       "110498  94336536145654   F      2016-06-08T10:21:14Z  2016-06-08T00:00:00Z   \n",
       "110499  821969177626116  F      2016-06-01T09:42:56Z  2016-06-01T00:00:00Z   \n",
       "110500  443438443334614  F      2016-06-08T09:35:13Z  2016-06-08T00:00:00Z   \n",
       "110501  454425189389     M      2016-06-01T10:19:12Z  2016-06-01T00:00:00Z   \n",
       "110502  731622885364982  F      2016-06-08T10:50:42Z  2016-06-08T00:00:00Z   \n",
       "110503  23621816822757   F      2016-06-01T13:00:36Z  2016-06-01T00:00:00Z   \n",
       "110504  9947982555566    F      2016-06-08T11:06:21Z  2016-06-08T00:00:00Z   \n",
       "110505  56673438855979   F      2016-06-01T10:45:50Z  2016-06-01T00:00:00Z   \n",
       "110506  897388334326     M      2016-06-01T11:09:20Z  2016-06-01T00:00:00Z   \n",
       "110507  476946211846992  F      2016-06-08T09:04:18Z  2016-06-08T00:00:00Z   \n",
       "110508  94336536145654   F      2016-06-01T09:41:00Z  2016-06-01T00:00:00Z   \n",
       "110509  495296829375937  M      2016-06-08T08:50:51Z  2016-06-08T00:00:00Z   \n",
       "110510  23621816822757   F      2016-06-01T09:35:48Z  2016-06-01T00:00:00Z   \n",
       "110511  823599626588     F      2016-06-08T08:50:20Z  2016-06-08T00:00:00Z   \n",
       "110512  98762456447375   F      2016-06-08T08:20:01Z  2016-06-08T00:00:00Z   \n",
       "110513  86747784995281   M      2016-06-08T07:52:55Z  2016-06-08T00:00:00Z   \n",
       "110514  2695685177138    F      2016-06-08T08:35:31Z  2016-06-08T00:00:00Z   \n",
       "110515  645634214296344  M      2016-06-06T15:58:05Z  2016-06-08T00:00:00Z   \n",
       "110516  69237724436761   F      2016-06-07T07:45:16Z  2016-06-08T00:00:00Z   \n",
       "110517  5574942418928    F      2016-06-07T07:38:34Z  2016-06-07T00:00:00Z   \n",
       "110518  72633149253362   F      2016-04-27T15:15:06Z  2016-06-07T00:00:00Z   \n",
       "110519  65423877893936   F      2016-04-27T15:23:14Z  2016-06-07T00:00:00Z   \n",
       "110520  996997666245785  F      2016-05-03T07:51:47Z  2016-06-07T00:00:00Z   \n",
       "110521  36355337746436   F      2016-05-03T08:23:40Z  2016-06-07T00:00:00Z   \n",
       "110522  2572134369293    F      2016-05-03T09:15:35Z  2016-06-07T00:00:00Z   \n",
       "110523  3596266328735    F      2016-05-03T07:27:33Z  2016-06-07T00:00:00Z   \n",
       "110524  15576631729893   F      2016-04-27T16:03:52Z  2016-06-07T00:00:00Z   \n",
       "110525  92134931435557   F      2016-04-27T15:09:23Z  2016-06-07T00:00:00Z   \n",
       "110526  377511518121127  F      2016-04-27T13:30:56Z  2016-06-07T00:00:00Z   \n",
       "\n",
       "        Age      Neighbourhood  Scholarship  Hipertension  Diabetes  \\\n",
       "0       62   JARDIM DA PENHA    0            1             0          \n",
       "1       56   JARDIM DA PENHA    0            0             0          \n",
       "2       62   MATA DA PRAIA      0            0             0          \n",
       "3       8    PONTAL DE CAMBURI  0            0             0          \n",
       "4       56   JARDIM DA PENHA    0            1             1          \n",
       "5       76   REPÚBLICA          0            1             0          \n",
       "6       23   GOIABEIRAS         0            0             0          \n",
       "7       39   GOIABEIRAS         0            0             0          \n",
       "8       21   ANDORINHAS         0            0             0          \n",
       "9       19   CONQUISTA          0            0             0          \n",
       "10      30   NOVA PALESTINA     0            0             0          \n",
       "11      29   NOVA PALESTINA     0            0             0          \n",
       "12      22   NOVA PALESTINA     1            0             0          \n",
       "13      28   NOVA PALESTINA     0            0             0          \n",
       "14      54   NOVA PALESTINA     0            0             0          \n",
       "15      15   NOVA PALESTINA     0            0             0          \n",
       "16      50   NOVA PALESTINA     0            0             0          \n",
       "17      40   CONQUISTA          1            0             0          \n",
       "18      30   NOVA PALESTINA     1            0             0          \n",
       "19      46   DA PENHA           0            0             0          \n",
       "20      30   NOVA PALESTINA     0            0             0          \n",
       "21      4    CONQUISTA          0            0             0          \n",
       "22      13   CONQUISTA          0            0             0          \n",
       "23      46   CONQUISTA          0            0             0          \n",
       "24      65   TABUAZEIRO         0            0             0          \n",
       "25      46   CONQUISTA          0            1             0          \n",
       "26      45   BENTO FERREIRA     0            1             0          \n",
       "27      4    CONQUISTA          0            0             0          \n",
       "28      51   SÃO PEDRO          0            0             0          \n",
       "29      32   SANTA MARTHA       0            0             0          \n",
       "...     ..            ...      ..           ..            ..          \n",
       "110497  76   MARIA ORTIZ        0            0             0          \n",
       "110498  59   MARIA ORTIZ        0            0             0          \n",
       "110499  66   MARIA ORTIZ        0            1             1          \n",
       "110500  59   MARIA ORTIZ        0            0             0          \n",
       "110501  44   MARIA ORTIZ        0            0             0          \n",
       "110502  22   GOIABEIRAS         0            0             0          \n",
       "110503  64   SOLON BORGES       0            0             0          \n",
       "110504  4    MARIA ORTIZ        0            0             0          \n",
       "110505  55   MARIA ORTIZ        0            0             0          \n",
       "110506  5    MARIA ORTIZ        0            0             0          \n",
       "110507  0    MARIA ORTIZ        0            0             0          \n",
       "110508  59   MARIA ORTIZ        0            0             0          \n",
       "110509  33   MARIA ORTIZ        0            0             0          \n",
       "110510  64   SOLON BORGES       0            0             0          \n",
       "110511  14   MARIA ORTIZ        0            0             0          \n",
       "110512  41   MARIA ORTIZ        0            0             0          \n",
       "110513  2    ANTÔNIO HONÓRIO    0            0             0          \n",
       "110514  58   MARIA ORTIZ        0            0             0          \n",
       "110515  33   MARIA ORTIZ        0            1             0          \n",
       "110516  37   MARIA ORTIZ        0            0             0          \n",
       "110517  19   MARIA ORTIZ        0            0             0          \n",
       "110518  50   MARIA ORTIZ        0            0             0          \n",
       "110519  22   MARIA ORTIZ        0            0             0          \n",
       "110520  42   MARIA ORTIZ        0            0             0          \n",
       "110521  53   MARIA ORTIZ        0            0             0          \n",
       "110522  56   MARIA ORTIZ        0            0             0          \n",
       "110523  51   MARIA ORTIZ        0            0             0          \n",
       "110524  21   MARIA ORTIZ        0            0             0          \n",
       "110525  38   MARIA ORTIZ        0            0             0          \n",
       "110526  54   MARIA ORTIZ        0            0             0          \n",
       "\n",
       "        Alcoholism  Handcap  SMS_received No-show  \n",
       "0       0           0        0             No      \n",
       "1       0           0        0             No      \n",
       "2       0           0        0             No      \n",
       "3       0           0        0             No      \n",
       "4       0           0        0             No      \n",
       "5       0           0        0             No      \n",
       "6       0           0        0             Yes     \n",
       "7       0           0        0             Yes     \n",
       "8       0           0        0             No      \n",
       "9       0           0        0             No      \n",
       "10      0           0        0             No      \n",
       "11      0           0        1             Yes     \n",
       "12      0           0        0             No      \n",
       "13      0           0        0             No      \n",
       "14      0           0        0             No      \n",
       "15      0           0        1             No      \n",
       "16      0           0        0             No      \n",
       "17      0           0        0             Yes     \n",
       "18      0           0        1             No      \n",
       "19      0           0        0             No      \n",
       "20      0           0        0             Yes     \n",
       "21      0           0        0             Yes     \n",
       "22      0           0        1             Yes     \n",
       "23      0           0        0             No      \n",
       "24      0           0        0             No      \n",
       "25      0           0        1             No      \n",
       "26      0           0        0             No      \n",
       "27      0           0        0             No      \n",
       "28      0           0        0             No      \n",
       "29      0           0        0             No      \n",
       "...    ..          ..       ..             ..      \n",
       "110497  0           0        0             No      \n",
       "110498  0           0        0             No      \n",
       "110499  0           0        0             No      \n",
       "110500  0           0        0             No      \n",
       "110501  0           0        0             No      \n",
       "110502  0           0        0             No      \n",
       "110503  0           0        0             No      \n",
       "110504  0           0        0             No      \n",
       "110505  0           0        0             No      \n",
       "110506  0           0        0             No      \n",
       "110507  0           0        0             No      \n",
       "110508  0           0        0             No      \n",
       "110509  0           0        0             No      \n",
       "110510  0           0        0             No      \n",
       "110511  0           0        0             No      \n",
       "110512  0           0        0             No      \n",
       "110513  0           0        0             No      \n",
       "110514  0           0        0             No      \n",
       "110515  0           0        0             Yes     \n",
       "110516  0           0        0             Yes     \n",
       "110517  0           0        0             No      \n",
       "110518  0           0        1             No      \n",
       "110519  0           0        1             No      \n",
       "110520  0           0        1             No      \n",
       "110521  0           0        1             No      \n",
       "110522  0           0        1             No      \n",
       "110523  0           0        1             No      \n",
       "110524  0           0        1             No      \n",
       "110525  0           0        1             No      \n",
       "110526  0           0        1             No      \n",
       "\n",
       "[110527 rows x 13 columns]>"
      ]
     },
     "execution_count": 17,
     "metadata": {},
     "output_type": "execute_result"
    }
   ],
   "source": [
    "df.duplicated"
   ]
  },
  {
   "cell_type": "code",
   "execution_count": 18,
   "metadata": {},
   "outputs": [],
   "source": [
    "df.drop_duplicates(inplace=True)"
   ]
  },
  {
   "cell_type": "markdown",
   "metadata": {},
   "source": [
    "### Notes \n",
    ">I dropped the duplicates, to clean up the data. "
   ]
  },
  {
   "cell_type": "code",
   "execution_count": 19,
   "metadata": {},
   "outputs": [
    {
     "name": "stdout",
     "output_type": "stream",
     "text": [
      "<class 'pandas.core.frame.DataFrame'>\n",
      "Int64Index: 109909 entries, 0 to 110526\n",
      "Data columns (total 13 columns):\n",
      "PatientId         109909 non-null int64\n",
      "Gender            109909 non-null object\n",
      "ScheduledDay      109909 non-null object\n",
      "AppointmentDay    109909 non-null object\n",
      "Age               109909 non-null int64\n",
      "Neighbourhood     109909 non-null object\n",
      "Scholarship       109909 non-null int64\n",
      "Hipertension      109909 non-null int64\n",
      "Diabetes          109909 non-null int64\n",
      "Alcoholism        109909 non-null int64\n",
      "Handcap           109909 non-null int64\n",
      "SMS_received      109909 non-null int64\n",
      "No-show           109909 non-null object\n",
      "dtypes: int64(8), object(5)\n",
      "memory usage: 11.7+ MB\n"
     ]
    }
   ],
   "source": [
    "df.info()"
   ]
  },
  {
   "cell_type": "code",
   "execution_count": 20,
   "metadata": {},
   "outputs": [],
   "source": [
    "df.rename(columns={'No-show': 'No_show', 'Hipertension': 'Hypertension', 'Scholarship': 'Enrolled', 'Neighbourhood': 'Hospital_loc', 'Handcap': 'Handicap'}, inplace=True)"
   ]
  },
  {
   "cell_type": "markdown",
   "metadata": {},
   "source": [
    "## Notes\n",
    ">Decided to rename the columns because of grammatical errors and to make it easier to understand and read. "
   ]
  },
  {
   "cell_type": "code",
   "execution_count": 21,
   "metadata": {},
   "outputs": [
    {
     "name": "stdout",
     "output_type": "stream",
     "text": [
      "<class 'pandas.core.frame.DataFrame'>\n",
      "Int64Index: 109909 entries, 0 to 110526\n",
      "Data columns (total 13 columns):\n",
      "PatientId         109909 non-null int64\n",
      "Gender            109909 non-null object\n",
      "ScheduledDay      109909 non-null object\n",
      "AppointmentDay    109909 non-null object\n",
      "Age               109909 non-null int64\n",
      "Hospital_loc      109909 non-null object\n",
      "Enrolled          109909 non-null int64\n",
      "Hypertension      109909 non-null int64\n",
      "Diabetes          109909 non-null int64\n",
      "Alcoholism        109909 non-null int64\n",
      "Handicap          109909 non-null int64\n",
      "SMS_received      109909 non-null int64\n",
      "No_show           109909 non-null object\n",
      "dtypes: int64(8), object(5)\n",
      "memory usage: 11.7+ MB\n"
     ]
    }
   ],
   "source": [
    "df.info()"
   ]
  },
  {
   "cell_type": "code",
   "execution_count": 22,
   "metadata": {},
   "outputs": [],
   "source": [
    "df['Gender'].replace({'F': 'Female', 'M':'Male'}, inplace=True)\n"
   ]
  },
  {
   "cell_type": "markdown",
   "metadata": {},
   "source": [
    "## Notes\n",
    ">I replaced F with Female and M with Male. The reason I replaced them was becuase it's easier to read/undestand. "
   ]
  },
  {
   "cell_type": "code",
   "execution_count": 23,
   "metadata": {},
   "outputs": [],
   "source": [
    "df_a = df[df['No_show'] == 'Yes']\n"
   ]
  },
  {
   "cell_type": "code",
   "execution_count": 24,
   "metadata": {},
   "outputs": [
    {
     "data": {
      "text/html": [
       "<div>\n",
       "<style scoped>\n",
       "    .dataframe tbody tr th:only-of-type {\n",
       "        vertical-align: middle;\n",
       "    }\n",
       "\n",
       "    .dataframe tbody tr th {\n",
       "        vertical-align: top;\n",
       "    }\n",
       "\n",
       "    .dataframe thead th {\n",
       "        text-align: right;\n",
       "    }\n",
       "</style>\n",
       "<table border=\"1\" class=\"dataframe\">\n",
       "  <thead>\n",
       "    <tr style=\"text-align: right;\">\n",
       "      <th></th>\n",
       "      <th>PatientId</th>\n",
       "      <th>Gender</th>\n",
       "      <th>ScheduledDay</th>\n",
       "      <th>AppointmentDay</th>\n",
       "      <th>Age</th>\n",
       "      <th>Hospital_loc</th>\n",
       "      <th>Enrolled</th>\n",
       "      <th>Hypertension</th>\n",
       "      <th>Diabetes</th>\n",
       "      <th>Alcoholism</th>\n",
       "      <th>Handicap</th>\n",
       "      <th>SMS_received</th>\n",
       "      <th>No_show</th>\n",
       "    </tr>\n",
       "  </thead>\n",
       "  <tbody>\n",
       "    <tr>\n",
       "      <th>6</th>\n",
       "      <td>733688164476661</td>\n",
       "      <td>Female</td>\n",
       "      <td>2016-04-27T15:05:12Z</td>\n",
       "      <td>2016-04-29T00:00:00Z</td>\n",
       "      <td>23</td>\n",
       "      <td>GOIABEIRAS</td>\n",
       "      <td>0</td>\n",
       "      <td>0</td>\n",
       "      <td>0</td>\n",
       "      <td>0</td>\n",
       "      <td>0</td>\n",
       "      <td>0</td>\n",
       "      <td>Yes</td>\n",
       "    </tr>\n",
       "    <tr>\n",
       "      <th>7</th>\n",
       "      <td>3449833394123</td>\n",
       "      <td>Female</td>\n",
       "      <td>2016-04-27T15:39:58Z</td>\n",
       "      <td>2016-04-29T00:00:00Z</td>\n",
       "      <td>39</td>\n",
       "      <td>GOIABEIRAS</td>\n",
       "      <td>0</td>\n",
       "      <td>0</td>\n",
       "      <td>0</td>\n",
       "      <td>0</td>\n",
       "      <td>0</td>\n",
       "      <td>0</td>\n",
       "      <td>Yes</td>\n",
       "    </tr>\n",
       "    <tr>\n",
       "      <th>11</th>\n",
       "      <td>7542951368435</td>\n",
       "      <td>Male</td>\n",
       "      <td>2016-04-26T08:44:12Z</td>\n",
       "      <td>2016-04-29T00:00:00Z</td>\n",
       "      <td>29</td>\n",
       "      <td>NOVA PALESTINA</td>\n",
       "      <td>0</td>\n",
       "      <td>0</td>\n",
       "      <td>0</td>\n",
       "      <td>0</td>\n",
       "      <td>0</td>\n",
       "      <td>1</td>\n",
       "      <td>Yes</td>\n",
       "    </tr>\n",
       "    <tr>\n",
       "      <th>17</th>\n",
       "      <td>14794966191172</td>\n",
       "      <td>Female</td>\n",
       "      <td>2016-04-28T09:28:57Z</td>\n",
       "      <td>2016-04-29T00:00:00Z</td>\n",
       "      <td>40</td>\n",
       "      <td>CONQUISTA</td>\n",
       "      <td>1</td>\n",
       "      <td>0</td>\n",
       "      <td>0</td>\n",
       "      <td>0</td>\n",
       "      <td>0</td>\n",
       "      <td>0</td>\n",
       "      <td>Yes</td>\n",
       "    </tr>\n",
       "    <tr>\n",
       "      <th>20</th>\n",
       "      <td>622257462899397</td>\n",
       "      <td>Female</td>\n",
       "      <td>2016-04-27T07:51:14Z</td>\n",
       "      <td>2016-04-29T00:00:00Z</td>\n",
       "      <td>30</td>\n",
       "      <td>NOVA PALESTINA</td>\n",
       "      <td>0</td>\n",
       "      <td>0</td>\n",
       "      <td>0</td>\n",
       "      <td>0</td>\n",
       "      <td>0</td>\n",
       "      <td>0</td>\n",
       "      <td>Yes</td>\n",
       "    </tr>\n",
       "  </tbody>\n",
       "</table>\n",
       "</div>"
      ],
      "text/plain": [
       "          PatientId  Gender          ScheduledDay        AppointmentDay  Age  \\\n",
       "6   733688164476661  Female  2016-04-27T15:05:12Z  2016-04-29T00:00:00Z  23    \n",
       "7   3449833394123    Female  2016-04-27T15:39:58Z  2016-04-29T00:00:00Z  39    \n",
       "11  7542951368435    Male    2016-04-26T08:44:12Z  2016-04-29T00:00:00Z  29    \n",
       "17  14794966191172   Female  2016-04-28T09:28:57Z  2016-04-29T00:00:00Z  40    \n",
       "20  622257462899397  Female  2016-04-27T07:51:14Z  2016-04-29T00:00:00Z  30    \n",
       "\n",
       "      Hospital_loc  Enrolled  Hypertension  Diabetes  Alcoholism  Handicap  \\\n",
       "6   GOIABEIRAS      0         0             0         0           0          \n",
       "7   GOIABEIRAS      0         0             0         0           0          \n",
       "11  NOVA PALESTINA  0         0             0         0           0          \n",
       "17  CONQUISTA       1         0             0         0           0          \n",
       "20  NOVA PALESTINA  0         0             0         0           0          \n",
       "\n",
       "    SMS_received No_show  \n",
       "6   0             Yes     \n",
       "7   0             Yes     \n",
       "11  1             Yes     \n",
       "17  0             Yes     \n",
       "20  0             Yes     "
      ]
     },
     "execution_count": 24,
     "metadata": {},
     "output_type": "execute_result"
    }
   ],
   "source": [
    "df_a.head()"
   ]
  },
  {
   "cell_type": "markdown",
   "metadata": {},
   "source": [
    "## Notes\n",
    "> I will need to create a new dataset that just includes patient's who are no shows. This will allow me to explore the dataset and find out why might be the correlation for them not showing up. "
   ]
  },
  {
   "cell_type": "code",
   "execution_count": null,
   "metadata": {},
   "outputs": [],
   "source": []
  },
  {
   "cell_type": "markdown",
   "metadata": {},
   "source": [
    "<a id='eda'></a>\n",
    "## Exploratory Data Analysis\n",
    "<a id='characteristics'></a>\n",
    "### Research Question 1 \n",
    "Is there a correlation with a patient's characteristics (age, alcholism, diabetes, handicap, hypertension) and being a no show?"
   ]
  },
  {
   "cell_type": "code",
   "execution_count": 25,
   "metadata": {},
   "outputs": [
    {
     "data": {
      "image/png": "[encoded data removed]",
      "text/plain": [
       "<Figure size 720x576 with 9 Axes>"
      ]
     },
     "metadata": {},
     "output_type": "display_data"
    }
   ],
   "source": [
    "df_a.hist(figsize=(10,8));\n"
   ]
  },
  {
   "cell_type": "markdown",
   "metadata": {},
   "source": [
    "## Notes\n",
    ">My initial belief was that a patient's characteristics (age, handicap, hyptertension, diabetes, alcoholism) might be a factor, but the histogram is similiar to the previous dataset. Half the patient's that didn't show up recieved a text message reminder, and it doesn't seem to make an impact. Being enrolled or not in Bosla Familia (welfare program) seems to show the same results. \n",
    "\n",
    "> I will need to explore theis dataset further. I will focus my attention to see if there is any correlation with gender specifically, age/gender, apppointment day, and the location of the hospital that affects no shows. I suspect that it might be the location of the hospital that might have a correlation. "
   ]
  },
  {
   "cell_type": "markdown",
   "metadata": {},
   "source": [
    "<a id='gender'></a>\n",
    "### Research Question 2  \n",
    "Does gender have any correlation with being a no show?"
   ]
  },
  {
   "cell_type": "code",
   "execution_count": 26,
   "metadata": {},
   "outputs": [
    {
     "data": {
      "text/plain": [
       "Female    14458\n",
       "Male      7647 \n",
       "Name: Gender, dtype: int64"
      ]
     },
     "execution_count": 26,
     "metadata": {},
     "output_type": "execute_result"
    }
   ],
   "source": [
    "gender_counts = df_a['Gender'].value_counts()\n",
    "gender_counts "
   ]
  },
  {
   "cell_type": "markdown",
   "metadata": {},
   "source": [
    "## Notes\n",
    ">I want to breakdown the gender count by proportion. In order to do that I need the Female and Male counts first. "
   ]
  },
  {
   "cell_type": "code",
   "execution_count": 27,
   "metadata": {},
   "outputs": [
    {
     "data": {
      "text/plain": [
       "22105"
      ]
     },
     "execution_count": 27,
     "metadata": {},
     "output_type": "execute_result"
    }
   ],
   "source": [
    "gender_total_count = df_a['Gender'].value_counts().sum()\n",
    "gender_total_count"
   ]
  },
  {
   "cell_type": "markdown",
   "metadata": {},
   "source": [
    "## Notes\n",
    ">In order to get proportion I will need to sum up the total of the column 'Gender'. "
   ]
  },
  {
   "cell_type": "code",
   "execution_count": 28,
   "metadata": {},
   "outputs": [
    {
     "data": {
      "text/plain": [
       "Female    0.65406\n",
       "Male      0.34594\n",
       "Name: Gender, dtype: float64"
      ]
     },
     "execution_count": 28,
     "metadata": {},
     "output_type": "execute_result"
    }
   ],
   "source": [
    "proportion_gender_noshow = gender_counts/gender_total_count\n",
    "proportion_gender_noshow"
   ]
  },
  {
   "cell_type": "markdown",
   "metadata": {},
   "source": [
    "## Notes\n",
    ">In order to get proprotion I need to divide the female sum value and the male sum vale with the total value. "
   ]
  },
  {
   "cell_type": "code",
   "execution_count": 29,
   "metadata": {
    "scrolled": true
   },
   "outputs": [
    {
     "data": {
      "image/png": "[encoded data removed]",
      "text/plain": [
       "<Figure size 432x288 with 1 Axes>"
      ]
     },
     "metadata": {},
     "output_type": "display_data"
    }
   ],
   "source": [
    "# Pie chart\n",
    "labels = ['Female', 'Male']\n",
    "sizes = [proportion_gender_noshow['Female'], proportion_gender_noshow['Male']]\n",
    "explode = (0.1, 0)\n",
    "fig1, ax1 = plt.subplots()\n",
    "ax1.pie(sizes, explode=explode, labels=labels, autopct='%1.1f%%',\n",
    "        shadow=True, startangle=90)\n",
    "# Equal aspect ratio ensures that pie is drawn as a circle\n",
    "ax1.axis('equal')  \n",
    "plt.tight_layout();\n"
   ]
  },
  {
   "cell_type": "markdown",
   "metadata": {},
   "source": [
    "## Notes\n",
    "> I will include to see the patient's that did not no show up to the overall dataset that is all encompassing to see if there is a difference. "
   ]
  },
  {
   "cell_type": "code",
   "execution_count": 30,
   "metadata": {},
   "outputs": [
    {
     "data": {
      "text/plain": [
       "Female    71424\n",
       "Male      38485\n",
       "Name: Gender, dtype: int64"
      ]
     },
     "execution_count": 30,
     "metadata": {},
     "output_type": "execute_result"
    }
   ],
   "source": [
    "gender_count_overall = df['Gender'].value_counts()\n",
    "gender_count_overall"
   ]
  },
  {
   "cell_type": "markdown",
   "metadata": {},
   "source": [
    "## Notes\n",
    ">In order to get proportion I need to sum up the total of the column 'Gender'. "
   ]
  },
  {
   "cell_type": "code",
   "execution_count": 31,
   "metadata": {},
   "outputs": [
    {
     "data": {
      "text/plain": [
       "109909"
      ]
     },
     "execution_count": 31,
     "metadata": {},
     "output_type": "execute_result"
    }
   ],
   "source": [
    "gender_count_overall_total = df['Gender'].value_counts().sum()\n",
    "gender_count_overall_total"
   ]
  },
  {
   "cell_type": "markdown",
   "metadata": {},
   "source": [
    "## Notes\n",
    ">In order to get proportion I need to divide the female sum value and male sum value with the total value. "
   ]
  },
  {
   "cell_type": "code",
   "execution_count": 32,
   "metadata": {},
   "outputs": [
    {
     "data": {
      "text/plain": [
       "Female    0.649847\n",
       "Male      0.350153\n",
       "Name: Gender, dtype: float64"
      ]
     },
     "execution_count": 32,
     "metadata": {},
     "output_type": "execute_result"
    }
   ],
   "source": [
    "pro__gender_noshow_overall = gender_count_overall/gender_count_overall_total\n",
    "pro__gender_noshow_overall"
   ]
  },
  {
   "cell_type": "code",
   "execution_count": 33,
   "metadata": {},
   "outputs": [
    {
     "data": {
      "image/png": "[encoded data removed]",
      "text/plain": [
       "<Figure size 432x288 with 1 Axes>"
      ]
     },
     "metadata": {},
     "output_type": "display_data"
    }
   ],
   "source": [
    "# Pie chart\n",
    "labels = ['Female', 'Male']\n",
    "sizes = [pro__gender_noshow_overall['Female'], pro__gender_noshow_overall['Male']] \n",
    "explode = (0.1, 0)\n",
    "fig1, ax1 = plt.subplots()\n",
    "ax1.pie(sizes, explode=explode, labels=labels, autopct='%1.1f%%',\n",
    "        shadow=True, startangle=90)\n",
    "# Equal aspect ratio ensures that pie is drawn as a circle\n",
    "ax1.axis('equal')  \n",
    "plt.tight_layout()\n"
   ]
  },
  {
   "cell_type": "markdown",
   "metadata": {},
   "source": [
    "### NOTES\n",
    "\n",
    "> After seeing the overall gender data, proportionally both datasets are about the same, so there is not a direct correlation. "
   ]
  },
  {
   "cell_type": "markdown",
   "metadata": {},
   "source": [
    "<a id='age/gender'></a>\n",
    "### Research Question 3 \n",
    "Is there a correlation between no shows and age/gender? "
   ]
  },
  {
   "cell_type": "code",
   "execution_count": 34,
   "metadata": {},
   "outputs": [
    {
     "data": {
      "text/plain": [
       "0      636\n",
       "1      415\n",
       "17     394\n",
       "19     389\n",
       "30     362\n",
       "9      360\n",
       "20     353\n",
       "16     351\n",
       "21     350\n",
       "25     349\n",
       "22     348\n",
       "18     347\n",
       "33     344\n",
       "23     341\n",
       "36     339\n",
       "39     337\n",
       "28     332\n",
       "27     327\n",
       "29     327\n",
       "32     321\n",
       "15     320\n",
       "34     320\n",
       "38     320\n",
       "5      319\n",
       "24     318\n",
       "44     316\n",
       "8      315\n",
       "14     314\n",
       "31     314\n",
       "53     314\n",
       "      ... \n",
       "69     116\n",
       "72     100\n",
       "73     96 \n",
       "70     94 \n",
       "76     91 \n",
       "78     89 \n",
       "74     89 \n",
       "80     79 \n",
       "77     78 \n",
       "75     77 \n",
       "82     66 \n",
       "81     62 \n",
       "83     60 \n",
       "79     60 \n",
       "85     49 \n",
       "86     38 \n",
       "84     35 \n",
       "89     29 \n",
       "87     27 \n",
       "90     23 \n",
       "92     18 \n",
       "91     13 \n",
       "88     12 \n",
       "93     10 \n",
       "94     6  \n",
       "95     6  \n",
       "97     2  \n",
       "115    2  \n",
       "96     1  \n",
       "98     1  \n",
       "Name: Age, Length: 100, dtype: int64"
      ]
     },
     "execution_count": 34,
     "metadata": {},
     "output_type": "execute_result"
    }
   ],
   "source": [
    "df_a['Age'].value_counts()"
   ]
  },
  {
   "cell_type": "code",
   "execution_count": 47,
   "metadata": {
    "scrolled": false
   },
   "outputs": [
    {
     "name": "stderr",
     "output_type": "stream",
     "text": [
      "/Users/wilbertrivera/anaconda3/lib/python3.6/site-packages/ipykernel_launcher.py:2: SettingWithCopyWarning: \n",
      "A value is trying to be set on a copy of a slice from a DataFrame.\n",
      "Try using .loc[row_indexer,col_indexer] = value instead\n",
      "\n",
      "See the caveats in the documentation: http://pandas.pydata.org/pandas-docs/stable/indexing.html#indexing-view-versus-copy\n",
      "  \n"
     ]
    },
    {
     "data": {
      "text/plain": [
       "0    3463\n",
       "2    3354\n",
       "3    3255\n",
       "1    3231\n",
       "4    2847\n",
       "5    2745\n",
       "6    1776\n",
       "7    895 \n",
       "8    457 \n",
       "9    82  \n",
       "Name: Age_group, dtype: int64"
      ]
     },
     "execution_count": 47,
     "metadata": {},
     "output_type": "execute_result"
    }
   ],
   "source": [
    "df_a['Age_group'] = (\n",
    "    df_a['Age'].apply(lambda x: min(int(x / 10) , 9)))\n",
    "df_a['Age_group'].value_counts()"
   ]
  },
  {
   "cell_type": "markdown",
   "metadata": {},
   "source": [
    "## Notes \n",
    "> I categorized the data into 9 columns, each in increments of 10. If the age was over 100 then it was categorized\n",
    "within the last column(9)."
   ]
  },
  {
   "cell_type": "code",
   "execution_count": 48,
   "metadata": {},
   "outputs": [],
   "source": [
    "df_ag = df_a.groupby(['Age_group'])\n",
    "\n"
   ]
  },
  {
   "cell_type": "markdown",
   "metadata": {},
   "source": [
    "## Notes\n",
    "> I used groupby to group the age groups together to better understand the information according to each age group. "
   ]
  },
  {
   "cell_type": "code",
   "execution_count": 49,
   "metadata": {},
   "outputs": [],
   "source": [
    "df_ag_counts = df_ag['Gender'].value_counts()\n"
   ]
  },
  {
   "cell_type": "markdown",
   "metadata": {},
   "source": [
    "## Notes \n",
    ">After grouping them together by age groups I wanted to specifically look at the female and male count to see how they are distributed. "
   ]
  },
  {
   "cell_type": "code",
   "execution_count": 50,
   "metadata": {},
   "outputs": [],
   "source": [
    "df_ag_total = df_ag['Gender'].value_counts().sum()"
   ]
  },
  {
   "cell_type": "markdown",
   "metadata": {},
   "source": [
    "## Notes\n",
    "> While seeing the number counts of each sex and category is beneficial, I will need to look at it proportionally. \n",
    "I will need to divide the value counts by the total sum. "
   ]
  },
  {
   "cell_type": "code",
   "execution_count": 51,
   "metadata": {},
   "outputs": [],
   "source": [
    "df_ag_por = df_ag_counts/df_ag_total \n"
   ]
  },
  {
   "cell_type": "code",
   "execution_count": 52,
   "metadata": {},
   "outputs": [
    {
     "data": {
      "text/plain": [
       "Age_group  Gender\n",
       "0          Male      0.082425\n",
       "           Female    0.074237\n",
       "1          Female    0.087084\n",
       "           Male      0.059082\n",
       "2          Female    0.113549\n",
       "           Male      0.038181\n",
       "3          Female    0.103777\n",
       "           Male      0.043474\n",
       "4          Female    0.090342\n",
       "           Male      0.038453\n",
       "5          Female    0.084687\n",
       "           Male      0.039493\n",
       "6          Female    0.056729\n",
       "           Male      0.023615\n",
       "7          Female    0.027234\n",
       "           Male      0.013255\n",
       "8          Female    0.013662\n",
       "           Male      0.007012\n",
       "9          Female    0.002760\n",
       "           Male      0.000950\n",
       "Name: Gender, dtype: float64"
      ]
     },
     "execution_count": 52,
     "metadata": {},
     "output_type": "execute_result"
    }
   ],
   "source": [
    "df_ag_por"
   ]
  },
  {
   "cell_type": "code",
   "execution_count": 53,
   "metadata": {},
   "outputs": [
    {
     "data": {
      "image/png": "[encoded data removed]",
      "text/plain": [
       "<Figure size 720x360 with 1 Axes>"
      ]
     },
     "metadata": {},
     "output_type": "display_data"
    }
   ],
   "source": [
    "indexa = np.arange(len(df_ag)) \n",
    "width = 0.35 \n",
    "plt.figure(figsize=(10,5))\n",
    "\n",
    "# plot bars\n",
    "female_por = [0.074237, 0.087084, 0.113549, 0.103777, 0.090342, 0.084687, 0.056729, 0.027234, 0.013662, 0.002760]\n",
    "male_por = [0.082425, 0.059082, 0.038181, 0.043474, 0.038453, 0.039493, 0.023615, 0.013255, 0.007012, 0.000950]\n",
    "Female_no_show = plt.bar(indexa, female_por, width, color='r', alpha=.75, label='RCities')\n",
    "Male_no_show = plt.bar(indexa + width, male_por, width, color='b', alpha=.75, label='RCities')\n",
    "\n",
    "labels = ['0-10', '11-20', '21-30', '31-40', '41-50', '51-60', '61-70', '71-80', '81+']  # xtick labels\n",
    "# title and labels\n",
    "plt.ylabel('Proportion', fontsize=15)\n",
    "plt.xlabel('Age Group', fontsize=15)\n",
    "plt.title('Age Group Distribution by Gender: No Shows', fontsize=18)\n",
    "plt.xticks(indexa, labels, fontsize=10, rotation=75);"
   ]
  },
  {
   "cell_type": "code",
   "execution_count": 54,
   "metadata": {},
   "outputs": [
    {
     "data": {
      "text/plain": [
       "0    17414\n",
       "5    15763\n",
       "3    15049\n",
       "4    14132\n",
       "2    13617\n",
       "1    12854\n",
       "6    11828\n",
       "7    5910 \n",
       "8    2929 \n",
       "9    413  \n",
       "Name: Age_group, dtype: int64"
      ]
     },
     "execution_count": 54,
     "metadata": {},
     "output_type": "execute_result"
    }
   ],
   "source": [
    "df['Age_group'] = (\n",
    "    df['Age'].apply(lambda x: min(int(x / 10) , 9)))\n",
    "df['Age_group'].value_counts()"
   ]
  },
  {
   "cell_type": "code",
   "execution_count": 55,
   "metadata": {},
   "outputs": [],
   "source": [
    "df_ag_total = df.groupby(['Age_group'])\n"
   ]
  },
  {
   "cell_type": "code",
   "execution_count": 56,
   "metadata": {},
   "outputs": [],
   "source": [
    "df_ag_total_counts = df_ag_total['Gender'].value_counts()\n"
   ]
  },
  {
   "cell_type": "code",
   "execution_count": 57,
   "metadata": {},
   "outputs": [],
   "source": [
    "df_ag_total_sum = df_ag_total['Gender'].value_counts().sum()"
   ]
  },
  {
   "cell_type": "code",
   "execution_count": 58,
   "metadata": {},
   "outputs": [],
   "source": [
    "df_por_total = df_ag_total_counts/df_ag_total_sum \n"
   ]
  },
  {
   "cell_type": "code",
   "execution_count": 59,
   "metadata": {},
   "outputs": [
    {
     "data": {
      "text/plain": [
       "Age_group  Gender\n",
       "0          Male      0.083178\n",
       "           Female    0.075262\n",
       "1          Female    0.070358\n",
       "           Male      0.046593\n",
       "2          Female    0.091649\n",
       "           Male      0.032245\n",
       "3          Female    0.097144\n",
       "           Male      0.039778\n",
       "4          Female    0.088355\n",
       "           Male      0.040224\n",
       "5          Female    0.097635\n",
       "           Male      0.045783\n",
       "6          Female    0.072988\n",
       "           Male      0.034629\n",
       "7          Female    0.035784\n",
       "           Male      0.017988\n",
       "8          Female    0.018033\n",
       "           Male      0.008616\n",
       "9          Female    0.002639\n",
       "           Male      0.001119\n",
       "Name: Gender, dtype: float64"
      ]
     },
     "execution_count": 59,
     "metadata": {},
     "output_type": "execute_result"
    }
   ],
   "source": [
    "df_por_total"
   ]
  },
  {
   "cell_type": "code",
   "execution_count": 60,
   "metadata": {},
   "outputs": [
    {
     "data": {
      "image/png": "[encoded data removed]",
      "text/plain": [
       "<Figure size 720x360 with 1 Axes>"
      ]
     },
     "metadata": {},
     "output_type": "display_data"
    }
   ],
   "source": [
    "indexb = np.arange(len(df_ag)) \n",
    "width = 0.35 \n",
    "plt.figure(figsize=(10,5))\n",
    "\n",
    "# plot bars\n",
    "female_por_total = [0.075262, 0.070358, 0.091649, 0.097144, 0.088355, 0.097635, 0.072988, 0.035784, 0.018033, 0.002639]\n",
    "male_por_total = [0.083178, 0.046593, 0.032245, 0.039778, 0.040224, 0.045783, 0.034629, 0.017988, 0.008616, 0.001119]\n",
    "Female_no_show = plt.bar(indexb, female_por_total, width, color='r', alpha=.75, label='RCities')\n",
    "Male_no_show = plt.bar(indexb + width, male_por_total, width, color='b', alpha=.75, label='RCities')\n",
    "\n",
    "labels = ['0-10', '11-20', '21-30', '31-40', '41-50', '51-60', '61-70', '71-80', '81+']  # xtick labels\n",
    "# title and labels\n",
    "plt.ylabel('Proportion', fontsize=15)\n",
    "plt.xlabel('Age Group', fontsize=15)\n",
    "plt.title('Age Group Distribution by Gender: Total', fontsize=18)\n",
    "plt.xticks(indexa, labels, fontsize=10, rotation=75);"
   ]
  },
  {
   "cell_type": "markdown",
   "metadata": {},
   "source": [
    "## Notes\n",
    ">Overall, it seems that comparing patient's overall vs patient's with no shows, shows a skew to the right. That should be expected as the demographics for the older age groups tends to decline over time. This information will need to be further anaylzed, possibly with statistical modeling."
   ]
  },
  {
   "cell_type": "markdown",
   "metadata": {},
   "source": [
    "<a id='hospital_loc'></a>\n",
    "### Research Question 4 \n",
    "Does the location of the hosptial have an impact on a patient being a no show? "
   ]
  },
  {
   "cell_type": "code",
   "execution_count": 61,
   "metadata": {},
   "outputs": [
    {
     "data": {
      "text/plain": [
       "JARDIM CAMBURI                 1429\n",
       "MARIA ORTIZ                    1219\n",
       "ITARARÉ                        902 \n",
       "RESISTÊNCIA                    885 \n",
       "CENTRO                         695 \n",
       "JESUS DE NAZARETH              695 \n",
       "JARDIM DA PENHA                631 \n",
       "CARATOÍRA                      583 \n",
       "TABUAZEIRO                     568 \n",
       "BONFIM                         548 \n",
       "ILHA DO PRÍNCIPE               532 \n",
       "SÃO PEDRO                      510 \n",
       "SANTO ANDRÉ                    504 \n",
       "ANDORINHAS                     497 \n",
       "SANTA MARTHA                   489 \n",
       "SANTO ANTÔNIO                  478 \n",
       "ROMÃO                          465 \n",
       "GURIGICA                       454 \n",
       "JABOUR                         451 \n",
       "DA PENHA                       428 \n",
       "SÃO JOSÉ                       427 \n",
       "MARUÍPE                        420 \n",
       "NOVA PALESTINA                 402 \n",
       "BELA VISTA                     380 \n",
       "SANTOS DUMONT                  368 \n",
       "SÃO CRISTÓVÃO                  362 \n",
       "ILHA DE SANTA MARIA            361 \n",
       "FORTE SÃO JOÃO                 337 \n",
       "CRUZAMENTO                     300 \n",
       "PRAIA DO SUÁ                   294 \n",
       "                              ...  \n",
       "SANTA CECÍLIA                  123 \n",
       "SANTOS REIS                    112 \n",
       "MATA DA PRAIA                  109 \n",
       "ESTRELINHA                     106 \n",
       "DO MOSCOSO                     92  \n",
       "BARRO VERMELHO                 91  \n",
       "DO CABRAL                      88  \n",
       "SANTA LÚCIA                    86  \n",
       "PIEDADE                        85  \n",
       "SANTA LUÍZA                    77  \n",
       "SOLON BORGES                   69  \n",
       "ARIOVALDO FAVALESSA            62  \n",
       "BOA VISTA                      58  \n",
       "COMDUSA                        54  \n",
       "MÁRIO CYPRESTE                 52  \n",
       "ENSEADA DO SUÁ                 52  \n",
       "ANTÔNIO HONÓRIO                50  \n",
       "FRADINHOS                      48  \n",
       "DE LOURDES                     47  \n",
       "HORTO                          42  \n",
       "SANTA HELENA                   37  \n",
       "UNIVERSITÁRIO                  32  \n",
       "NAZARETH                       29  \n",
       "SEGURANÇA DO LAR               28  \n",
       "MORADA DE CAMBURI              16  \n",
       "PONTAL DE CAMBURI              12  \n",
       "ILHA DO BOI                    3   \n",
       "ILHA DO FRADE                  2   \n",
       "ILHAS OCEÂNICAS DE TRINDADE    2   \n",
       "AEROPORTO                      1   \n",
       "Name: Hospital_loc, Length: 80, dtype: int64"
      ]
     },
     "execution_count": 61,
     "metadata": {},
     "output_type": "execute_result"
    }
   ],
   "source": [
    "No_show_loc = df_a['Hospital_loc'].value_counts()\n",
    "No_show_loc"
   ]
  },
  {
   "cell_type": "markdown",
   "metadata": {},
   "source": [
    "## Notes\n",
    ">There does seem to be hospitals that have a disportion amount of no shows in certain locations\n",
    "I will need to explore this further by seeing the total numbers from the overall dataset. "
   ]
  },
  {
   "cell_type": "code",
   "execution_count": 62,
   "metadata": {},
   "outputs": [
    {
     "data": {
      "text/plain": [
       "JARDIM CAMBURI                 7621\n",
       "MARIA ORTIZ                    5804\n",
       "RESISTÊNCIA                    4387\n",
       "JARDIM DA PENHA                3873\n",
       "ITARARÉ                        3470\n",
       "CENTRO                         3310\n",
       "TABUAZEIRO                     3123\n",
       "SANTA MARTHA                   3103\n",
       "JESUS DE NAZARETH              2852\n",
       "BONFIM                         2761\n",
       "SANTO ANTÔNIO                  2733\n",
       "SANTO ANDRÉ                    2556\n",
       "CARATOÍRA                      2541\n",
       "JABOUR                         2507\n",
       "SÃO PEDRO                      2432\n",
       "ILHA DO PRÍNCIPE               2266\n",
       "NOVA PALESTINA                 2263\n",
       "DA PENHA                       2203\n",
       "ROMÃO                          2197\n",
       "ANDORINHAS                     2194\n",
       "GURIGICA                       2014\n",
       "SÃO JOSÉ                       1963\n",
       "BELA VISTA                     1894\n",
       "MARUÍPE                        1891\n",
       "ILHA DE SANTA MARIA            1885\n",
       "FORTE SÃO JOÃO                 1867\n",
       "SÃO CRISTÓVÃO                  1831\n",
       "REDENÇÃO                       1553\n",
       "SÃO BENEDITO                   1433\n",
       "JOANA D´ARC                    1420\n",
       "                               ... \n",
       "SANTOS REIS                    542 \n",
       "ESTRELINHA                     538 \n",
       "SANTA CLARA                    501 \n",
       "SOLON BORGES                   469 \n",
       "SANTA CECÍLIA                  448 \n",
       "PIEDADE                        446 \n",
       "SANTA LÚCIA                    436 \n",
       "SANTA LUÍZA                    428 \n",
       "BARRO VERMELHO                 422 \n",
       "DO MOSCOSO                     411 \n",
       "MÁRIO CYPRESTE                 367 \n",
       "BOA VISTA                      312 \n",
       "COMDUSA                        303 \n",
       "DE LOURDES                     302 \n",
       "ARIOVALDO FAVALESSA            280 \n",
       "ANTÔNIO HONÓRIO                271 \n",
       "FRADINHOS                      258 \n",
       "ENSEADA DO SUÁ                 235 \n",
       "SANTA HELENA                   178 \n",
       "HORTO                          175 \n",
       "UNIVERSITÁRIO                  152 \n",
       "SEGURANÇA DO LAR               144 \n",
       "NAZARETH                       135 \n",
       "MORADA DE CAMBURI              96  \n",
       "PONTAL DE CAMBURI              69  \n",
       "ILHA DO BOI                    35  \n",
       "ILHA DO FRADE                  10  \n",
       "AEROPORTO                      8   \n",
       "ILHAS OCEÂNICAS DE TRINDADE    2   \n",
       "PARQUE INDUSTRIAL              1   \n",
       "Name: Hospital_loc, Length: 81, dtype: int64"
      ]
     },
     "execution_count": 62,
     "metadata": {},
     "output_type": "execute_result"
    }
   ],
   "source": [
    "Total_hos_loc = df['Hospital_loc'].value_counts()\n",
    "Total_hos_loc"
   ]
  },
  {
   "cell_type": "markdown",
   "metadata": {},
   "source": [
    "## Notes \n",
    "There does seem to be a correlation with the location of the hosptial and being a no show. I will need to look at it proportionally. Some hosptials, due to their proximity to high population centers might receive more patients than others in less populated areas. "
   ]
  },
  {
   "cell_type": "code",
   "execution_count": 63,
   "metadata": {},
   "outputs": [
    {
     "data": {
      "text/plain": [
       "AEROPORTO              0.125000\n",
       "ANDORINHAS             0.226527\n",
       "ANTÔNIO HONÓRIO        0.184502\n",
       "ARIOVALDO FAVALESSA    0.221429\n",
       "BARRO VERMELHO         0.215640\n",
       "Name: Hospital_loc, dtype: float64"
      ]
     },
     "execution_count": 63,
     "metadata": {},
     "output_type": "execute_result"
    }
   ],
   "source": [
    "por_hos_loc = No_show_loc/Total_hos_loc\n",
    "por_hos_loc.head()"
   ]
  },
  {
   "cell_type": "markdown",
   "metadata": {},
   "source": [
    "## Notes\n",
    ">After seeing up the data porportionally, I see that it's ordered alphabetically. I want to see it sorted by value. "
   ]
  },
  {
   "cell_type": "code",
   "execution_count": 64,
   "metadata": {},
   "outputs": [
    {
     "data": {
      "text/plain": [
       "ILHA DO BOI                    0.085714\n",
       "AEROPORTO                      0.125000\n",
       "MÁRIO CYPRESTE                 0.141689\n",
       "SOLON BORGES                   0.147122\n",
       "DE LOURDES                     0.155629\n",
       "SANTA MARTHA                   0.157589\n",
       "DO CABRAL                      0.157706\n",
       "JARDIM DA PENHA                0.162923\n",
       "DO QUADRO                      0.163121\n",
       "VILA RUBIM                     0.165687\n",
       "MORADA DE CAMBURI              0.166667\n",
       "MATA DA PRAIA                  0.169518\n",
       "REPÚBLICA                      0.171257\n",
       "CONSOLAÇÃO                     0.172389\n",
       "PONTAL DE CAMBURI              0.173913\n",
       "SANTO ANTÔNIO                  0.174899\n",
       "REDENÇÃO                       0.177077\n",
       "NOVA PALESTINA                 0.177640\n",
       "COMDUSA                        0.178218\n",
       "JABOUR                         0.179896\n",
       "SANTA LUÍZA                    0.179907\n",
       "FORTE SÃO JOÃO                 0.180503\n",
       "JOANA D´ARC                    0.181690\n",
       "TABUAZEIRO                     0.181876\n",
       "PRAIA DO CANTO                 0.183140\n",
       "ANTÔNIO HONÓRIO                0.184502\n",
       "BOA VISTA                      0.185897\n",
       "FRADINHOS                      0.186047\n",
       "CONQUISTA                      0.186541\n",
       "JARDIM CAMBURI                 0.187508\n",
       "                                 ...   \n",
       "SÃO PEDRO                      0.209704\n",
       "CENTRO                         0.209970\n",
       "MARIA ORTIZ                    0.210028\n",
       "UNIVERSITÁRIO                  0.210526\n",
       "ROMÃO                          0.211652\n",
       "NAZARETH                       0.214815\n",
       "BARRO VERMELHO                 0.215640\n",
       "CRUZAMENTO                     0.216294\n",
       "SÃO JOSÉ                       0.217524\n",
       "FONTE GRANDE                   0.217778\n",
       "ILHA DAS CAIEIRAS              0.220755\n",
       "ENSEADA DO SUÁ                 0.221277\n",
       "BENTO FERREIRA                 0.221311\n",
       "ARIOVALDO FAVALESSA            0.221429\n",
       "MARUÍPE                        0.222105\n",
       "DO MOSCOSO                     0.223844\n",
       "PARQUE MOSCOSO                 0.224592\n",
       "GURIGICA                       0.225422\n",
       "ANDORINHAS                     0.226527\n",
       "PRAIA DO SUÁ                   0.228261\n",
       "CARATOÍRA                      0.229437\n",
       "ILHA DO PRÍNCIPE               0.234775\n",
       "HORTO                          0.240000\n",
       "JESUS DE NAZARETH              0.243689\n",
       "ITARARÉ                        0.259942\n",
       "SANTA CLARA                    0.263473\n",
       "SANTA CECÍLIA                  0.274554\n",
       "SANTOS DUMONT                  0.288854\n",
       "ILHAS OCEÂNICAS DE TRINDADE    1.000000\n",
       "PARQUE INDUSTRIAL             NaN      \n",
       "Name: Hospital_loc, Length: 81, dtype: float64"
      ]
     },
     "execution_count": 64,
     "metadata": {},
     "output_type": "execute_result"
    }
   ],
   "source": [
    "high_por_sort = por_hos_loc.sort_values()\n",
    "high_por_sort"
   ]
  },
  {
   "cell_type": "markdown",
   "metadata": {},
   "source": [
    "## Notes\n",
    ">After setting up the data by order, I noticed that there are nulls and that there is an outlier. I will drop these. \n"
   ]
  },
  {
   "cell_type": "code",
   "execution_count": 65,
   "metadata": {},
   "outputs": [
    {
     "data": {
      "text/plain": [
       "ILHA DO BOI            0.085714\n",
       "AEROPORTO              0.125000\n",
       "MÁRIO CYPRESTE         0.141689\n",
       "SOLON BORGES           0.147122\n",
       "DE LOURDES             0.155629\n",
       "SANTA MARTHA           0.157589\n",
       "DO CABRAL              0.157706\n",
       "JARDIM DA PENHA        0.162923\n",
       "DO QUADRO              0.163121\n",
       "VILA RUBIM             0.165687\n",
       "MORADA DE CAMBURI      0.166667\n",
       "MATA DA PRAIA          0.169518\n",
       "REPÚBLICA              0.171257\n",
       "CONSOLAÇÃO             0.172389\n",
       "PONTAL DE CAMBURI      0.173913\n",
       "SANTO ANTÔNIO          0.174899\n",
       "REDENÇÃO               0.177077\n",
       "NOVA PALESTINA         0.177640\n",
       "COMDUSA                0.178218\n",
       "JABOUR                 0.179896\n",
       "SANTA LUÍZA            0.179907\n",
       "FORTE SÃO JOÃO         0.180503\n",
       "JOANA D´ARC            0.181690\n",
       "TABUAZEIRO             0.181876\n",
       "PRAIA DO CANTO         0.183140\n",
       "ANTÔNIO HONÓRIO        0.184502\n",
       "BOA VISTA              0.185897\n",
       "FRADINHOS              0.186047\n",
       "CONQUISTA              0.186541\n",
       "JARDIM CAMBURI         0.187508\n",
       "                         ...   \n",
       "SANTOS REIS            0.206642\n",
       "SANTA HELENA           0.207865\n",
       "SÃO PEDRO              0.209704\n",
       "CENTRO                 0.209970\n",
       "MARIA ORTIZ            0.210028\n",
       "UNIVERSITÁRIO          0.210526\n",
       "ROMÃO                  0.211652\n",
       "NAZARETH               0.214815\n",
       "BARRO VERMELHO         0.215640\n",
       "CRUZAMENTO             0.216294\n",
       "SÃO JOSÉ               0.217524\n",
       "FONTE GRANDE           0.217778\n",
       "ILHA DAS CAIEIRAS      0.220755\n",
       "ENSEADA DO SUÁ         0.221277\n",
       "BENTO FERREIRA         0.221311\n",
       "ARIOVALDO FAVALESSA    0.221429\n",
       "MARUÍPE                0.222105\n",
       "DO MOSCOSO             0.223844\n",
       "PARQUE MOSCOSO         0.224592\n",
       "GURIGICA               0.225422\n",
       "ANDORINHAS             0.226527\n",
       "PRAIA DO SUÁ           0.228261\n",
       "CARATOÍRA              0.229437\n",
       "ILHA DO PRÍNCIPE       0.234775\n",
       "HORTO                  0.240000\n",
       "JESUS DE NAZARETH      0.243689\n",
       "ITARARÉ                0.259942\n",
       "SANTA CLARA            0.263473\n",
       "SANTA CECÍLIA          0.274554\n",
       "SANTOS DUMONT          0.288854\n",
       "Name: Hospital_loc, Length: 79, dtype: float64"
      ]
     },
     "execution_count": 65,
     "metadata": {},
     "output_type": "execute_result"
    }
   ],
   "source": [
    "high_por_sort.dropna(inplace=True)\n",
    "hps_corrected = high_por_sort[:-1]\n",
    "hps_corrected"
   ]
  },
  {
   "cell_type": "code",
   "execution_count": 66,
   "metadata": {},
   "outputs": [
    {
     "data": {
      "text/plain": [
       "0.19718309859154928"
      ]
     },
     "execution_count": 66,
     "metadata": {},
     "output_type": "execute_result"
    }
   ],
   "source": [
    "hp_median = hps_corrected.median()\n",
    "hp_median"
   ]
  },
  {
   "cell_type": "markdown",
   "metadata": {},
   "source": [
    "### Notes\n",
    "> I want to see what the median of the dataset is. This will help visualize the findings by potentially building a skewed line. This skewed line might show that certain hosptials do have a higher proportion of patient's that don't show up than others. "
   ]
  },
  {
   "cell_type": "code",
   "execution_count": 67,
   "metadata": {},
   "outputs": [],
   "source": [
    "high_proportion = hps_corrected.tail(20)"
   ]
  },
  {
   "cell_type": "markdown",
   "metadata": {},
   "source": [
    "## Notes\n",
    "> I wanted to focus on the data that showed highest proportions of no shows, so I decided to pick the last 20. \n"
   ]
  },
  {
   "cell_type": "code",
   "execution_count": 77,
   "metadata": {},
   "outputs": [
    {
     "data": {
      "image/png": "[encoded data removed]",
      "text/plain": [
       "<Figure size 720x360 with 1 Axes>"
      ]
     },
     "metadata": {},
     "output_type": "display_data"
    }
   ],
   "source": [
    "indexc = np.arange(len(high_proportion)) \n",
    "width = 0.35 \n",
    "plt.figure(figsize=(10,5))\n",
    "# plot bars\n",
    "No_show_bar = plt.bar(indexc, high_proportion, width, color='b', alpha=.75, label='RCities')\n",
    "\n",
    "labels = ['SÃO JOSÉ','FONTE GRANDE','ILHA DAS CAIEIRAS', 'ENSEADA DO SUÁ', 'BENTO FERREIRA','ARIOVALDO FAVALESSA', \n",
    "          'MARUÍPE','DO MOSCOSO','PARQUE MOSCOSO', 'GURIGICA', 'ANDORINHAS','PRAIA DO SUÁ', 'CARATOÍRA','ILHA DO PRÍNCIPE',\n",
    "          'HORTO','JESUS DE NAZARETH','ITARARÉ','SANTA CLARA', 'SANTA CECÍLIA','SANTOS DUMONT']  # xtick labels\n",
    "#title and labels\n",
    "plt.ylabel('Proportion', fontsize=15)\n",
    "plt.xlabel('Hospital Location', fontsize=15)\n",
    "plt.title('Proportion of No Shows by Hospital', fontsize=18)\n",
    "plt.xticks(indexc, labels, fontsize=10, rotation=75)\n",
    "plt.axhline(hp_median, color='red', linestyle='-', linewidth=1);"
   ]
  },
  {
   "cell_type": "markdown",
   "metadata": {},
   "source": [
    "## Notes\n",
    ">The graph is skewed to the left, showing that there is a correlation with certain neighborhoods and higher rates of no shows. Further statisical modeling will need to be required to see why this is the cause. "
   ]
  },
  {
   "cell_type": "markdown",
   "metadata": {},
   "source": [
    "<a id='conclusions'></a>\n",
    "## Conclusions\n",
    "\n",
    ">First, I must make it clear that my analysis is limited and will need further statisical modeling for precision. \n",
    "\n",
    ">Second, there could be more variables that are not present that could be the causation of patient's being no shows to the hosptials. I was only able to find a correlation with hosptial locations.  \n",
    "\n",
    ">Third, interrelationships between the variables have not been thoroughly investigated. \n",
    "\n",
    ">Lastly, I believe that transporation could be a factor as to why patient's are no shows to hosptials. I want to obtain data that includes modes of transporation that the population takes and the accessibility to them. \n",
    "\n"
   ]
  },
  {
   "cell_type": "code",
   "execution_count": 82,
   "metadata": {},
   "outputs": [
    {
     "data": {
      "text/plain": [
       "255"
      ]
     },
     "execution_count": 82,
     "metadata": {},
     "output_type": "execute_result"
    }
   ],
   "source": [
    "from subprocess import call\n",
    "call(['python', '-m', 'nbconvert', 'Investigate_a_Dataset.ipynb'])"
   ]
  }
 ],
 "metadata": {
  "kernelspec": {
   "display_name": "Python 3",
   "language": "python",
   "name": "python3"
  },
  "language_info": {
   "codemirror_mode": {
    "name": "ipython",
    "version": 3
   },
   "file_extension": ".py",
   "mimetype": "text/x-python",
   "name": "python",
   "nbconvert_exporter": "python",
   "pygments_lexer": "ipython3",
   "version": "3.6.4"
  }
 },
 "nbformat": 4,
 "nbformat_minor": 2
}
